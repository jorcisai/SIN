{
 "cells": [
  {
   "cell_type": "markdown",
   "metadata": {},
   "source": [
    "# U1.1 Probabilistic reasoning: Representation and inference"
   ]
  },
  {
   "cell_type": "markdown",
   "metadata": {},
   "source": [
    "# Index\n",
    "\n",
    "1. The qualification problem\n",
    "2. Probabilistic representation\n",
    "3. Probabilistic inference\n",
    "4. Independence\n",
    "5. Bayes' theorem"
   ]
  },
  {
   "cell_type": "markdown",
   "metadata": {},
   "source": [
    "# 1 The qualification problem\n",
    "\n",
    "**Qualification problem:** $\\;$ Practical impossibility of knowing and checking all the **qualifications** (conditions) that would need to be guaranteed in order to ensure the fulfillment of an action\n",
    "* Example: $\\;$ Leaving the airport 90 minutes before the flight allows me to arrive on time IF there are no traffic jams AND no flat tyres AND ...\n",
    "* Example: $\\;$ A boat allows us to cross a river IF it is a rowing boat AND it has oars and rowlocks AND they are not broken AND they fit AND ...\n",
    "\n",
    "**Uncertainty:** $\\;$ Current intelligent systems include **uncertainty** as part of knowledge and represent it by **probabilities** associated with the events (propositions) of interest"
   ]
  },
  {
   "cell_type": "markdown",
   "metadata": {},
   "source": [
    "# 2 Probabilistic representation\n",
    "\n",
    "<div><table border-collapse: collapse><tr>\n",
    "<td style=\"border: none; text-align:left; vertical-align:top; padding:0; margin:0;\" width=500>\n",
    "\n",
    "**Joint Probability Distribution:** $\\;$ of the random variables of interest in order to represent probabilistic knowledge\n",
    "\n",
    "**Example of the dentist:** $\\;$ Knowledge to diagnose caries\n",
    "\n",
    "*Random variables of interest:*\n",
    "\n",
    "\\begin{align*}\n",
    "&\\text{Toothache:} & T&\\in\\{0,1\\}\\\\\n",
    "&\\text{Caries:}& C&\\in\\{0,1\\}\\\\\n",
    "&\\text{Hole:} & H&\\in\\{0,1\\}\n",
    "\\end{align*}\n",
    "\n",
    "*Representation:* $\\;$ table on the right with\n",
    "$$P(T=t, C=c, H=h)\\quad\\text{for all}\\;t, c, h\\in\\{0,1\\}$$\n",
    "\n",
    "</td><td style=\"border: none; text-align:center; vertical-align:top; padding:0; margin:0;\" width=400>\n",
    "\n",
    "<centre>\n",
    "\n",
    "|$t$|$c$|$h$|$P$|\n",
    "|:-:|:-:|:-:|:-:|\n",
    "|$0$|$0$|$0$|$0.576$|\n",
    "|$0$|$0$|$1$|$0.008$|\n",
    "|$0$|$1$|$0$|$0.144$|\n",
    "|$0$|$1$|$1$|$0.072$|\n",
    "|$1$|$0$|$0$|$0.064$|\n",
    "|$1$|$0$|$1$|$0.012$|\n",
    "|$1$|$1$|$0$|$0.016$|\n",
    "|$1$|$1$|$1$|$0.108$|\n",
    "||||$1.000$|\n",
    "\n",
    "</center>\n",
    "\n",
    "</td></tr></table></div>"
   ]
  },
  {
   "cell_type": "code",
   "execution_count": 1,
   "metadata": {},
   "outputs": [
    {
     "data": {
      "text/plain": [
       "array([[0.   , 0.   , 0.   , 0.576],\n",
       "       [0.   , 0.   , 1.   , 0.008],\n",
       "       [0.   , 1.   , 0.   , 0.144],\n",
       "       [0.   , 1.   , 1.   , 0.072],\n",
       "       [1.   , 0.   , 0.   , 0.064],\n",
       "       [1.   , 0.   , 1.   , 0.012],\n",
       "       [1.   , 1.   , 0.   , 0.016],\n",
       "       [1.   , 1.   , 1.   , 0.108]])"
      ]
     },
     "execution_count": 1,
     "metadata": {},
     "output_type": "execute_result"
    }
   ],
   "source": [
    "import numpy as np\n",
    "T = np.array([[0,0,0,.576], [0,0,1,.008], [0,1,0,.144], [0,1,1,.072], \n",
    "              [1,0,0,.064], [1,0,1,.012], [1,1,0,.016], [1,1,1,.108]])\n",
    "T"
   ]
  },
  {
   "cell_type": "markdown",
   "metadata": {},
   "source": [
    "# 3 Probabilistic inference\n",
    "\n",
    "**Sum and product rules:** $\\;$ Basic rules for calculating the probability of any **event** (**proposition**)\n",
    "of interest from the joint distribution\n",
    "$$P(x) = \\sum_y P(x,y)\\qquad\\text{and}\\qquad P(x,y) = P(x)\\,P(y\\mid x)$$\n",
    "\n",
    "**Important note:** $\\;$ In general it is not necessary to know the full table of joint probabilities to calculate the probability of a given event using the sum and product rules\n",
    "\n",
    "**Dentist example:** $\\;$ Calculation of the probability of observing...\n",
    "* Caries and observing a hole (at the same time): $\\displaystyle\\;P(c=1,h=1) = \\sum_{t=0,1} P(t,c=1,h=1) = 0.180$\n",
    "* Hole: $\\displaystyle\\;P(h=1) = \\sum_{t=0,1} \\sum_{c=0,1} P(t,c,h=1) = 0.200$\n",
    "* Decay after observing a hole: $\\displaystyle\\;P(c=1\\mid h=1) = \\frac{P(c=1,h=1)}{P(h=1)} = \\frac {0.180}{0.200} = 0.900$"
   ]
  },
  {
   "cell_type": "code",
   "execution_count": 2,
   "metadata": {},
   "outputs": [
    {
     "name": "stdout",
     "output_type": "stream",
     "text": [
      "Pc1b1 = 0.180  Pb1 = 0.200  Pc1Db1 = 0.900\n"
     ]
    }
   ],
   "source": [
    "Pc1b1 = np.sum(T[(T[:,1]==1) & (T[:,2]==1),-1])\n",
    "Pb1 = np.sum(T[T[:,2]==1,-1])\n",
    "Pc1Db1 = Pc1b1/Pb1\n",
    "print(f\"Pc1b1 = {Pc1b1:.3f}  Pb1 = {Pb1:.3f}  Pc1Db1 = {Pc1Db1:.3f}\")"
   ]
  },
  {
   "cell_type": "markdown",
   "metadata": {},
   "source": [
    "# 4 Independence\n",
    "\n",
    "**Independent variables:** $\\;$ Two variables $\\,x\\,$ and $\\,y\\,$ are **independent** if\n",
    "$$P(x,y) = P(x)\\,P(y) \\quad\\text{or}\\quad P(x\\mid y) = P(x) \\quad\\text{or}\\quad P (y\\mid x) = P(y)$$\n",
    "\n",
    "**Expert knowledge:** $\\;$ independence can be established by expert knowledge and convenience\n",
    "\n",
    "**Dentist example:**\n",
    "* We consider a new variable the weather when the patient visits the dentist\n",
    "$$W\\in\\{\\text{sun}, \\text{clouds}, \\text{rain}, \\text{snow}\\}$$\n",
    "* Let's assume that the three variables we already had are independent of the weather\n",
    "$$P(t,c,h,w)=P(w)\\,P(t,c,h\\mid w)=P(w)\\,P(t,c,h)$$\n",
    "* This is how we reduce the number of probabilities to store: $\\;32\\,$ vs $\\,4+8$"
   ]
  },
  {
   "cell_type": "markdown",
   "metadata": {},
   "source": [
    "# 5 Bayes' theorem\n",
    "\n",
    "**Bayes' theorem:** $\\;$ It allows us to update our knowledge about a hypothesis $y$ after observing new evidence $x$\n",
    "$$P(y\\mid x) ~=~ \\frac{P(x,y)}{P(x)} ~=~ P(y)\\,\\frac{P(x\\mid y)}{P (x)}$$\n",
    "* In other words: $P(y\\mid x)$ is the probability that the effect $y$ will occur after observing that the cause $x$ has occurred\n",
    "\n",
    "**Dentist example:** $\\;$\n",
    "* We know that the probability of caries is: $\\,P(c=1)=0.34$\n",
    "* We know that the probability of toothache is: $\\,P(t=1)=0.20$\n",
    "* We know that the probability of toothache after observing caries is: $\\,P(t=1\\mid c=1)=0.36$\n",
    "* What is the probability of caries after observing toothache, $\\,P(c=1\\mid t=1)$?\n",
    "$$P(c=1\\mid t=1) = P(c=1)\\,\\frac{P(t=1\\mid c=1)}{P(t=1)} = 0.34\\, \\frac{0.36}{0.20} = 0.61$$"
   ]
  },
  {
   "cell_type": "code",
   "execution_count": 3,
   "metadata": {},
   "outputs": [
    {
     "name": "stdout",
     "output_type": "stream",
     "text": [
      "Pc1Dd1 = 0.61\n"
     ]
    }
   ],
   "source": [
    "Pc1 = 0.34; Pd1 = 0.20; Pd1c1 = 0.36; Pc1Dd1 = Pc1 * Pd1c1 / Pb1; print(f\"Pc1Dd1 = {Pc1Dd1:.2f}\")"
   ]
  }
 ],
 "metadata": {
  "kernelspec": {
   "display_name": "Python 3",
   "language": "python",
   "name": "python3"
  },
  "language_info": {
   "codemirror_mode": {
    "name": "ipython",
    "version": 3
   },
   "file_extension": ".py",
   "mimetype": "text/x-python",
   "name": "python",
   "nbconvert_exporter": "python",
   "pygments_lexer": "ipython3",
   "version": "3.10.12"
  },
  "orig_nbformat": 4
 },
 "nbformat": 4,
 "nbformat_minor": 2
}
