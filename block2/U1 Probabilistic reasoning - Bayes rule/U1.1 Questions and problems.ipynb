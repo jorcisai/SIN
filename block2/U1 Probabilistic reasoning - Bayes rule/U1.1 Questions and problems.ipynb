{
 "cells": [
  {
   "cell_type": "markdown",
   "metadata": {},
   "source": [
    "# T1.1 Probabilistic reasoning: representation and inference"
   ]
  },
  {
   "cell_type": "markdown",
   "metadata": {},
   "source": [
    "**2023_01_26_Question 1:** $\\;$ Given the following table of joint probabilities for three variables of interest:\n",
    "$$\\begin{array}{|c|cccccccc|}\\hline\n",
    "A & 0 & 0 & 0 & 0 & 1 & 1 & 1 & 1\\\\\n",
    "B & 0 & 0 & 1 & 1 & 0 & 0 & 1 & 1\\\\\n",
    "C & 0 & 1 & 0 & 1 & 0 & 1 & 0 & 1\\\\\\hline\n",
    "P(A,B,C) & 0.093 & 0.100 & 0.133 & 0.163 & 0.157 & 0.150 & 0.117 & 0.087\\\\\n",
    "\\hline\\end{array}$$\n",
    "What is the value of $P(A=1, B=1 \\mid C=1)$?\n",
    "1. $P(A=1, B=1 \\mid C=1) \\leq 0.25$\n",
    "2. $0.25 < P(A=1, B=1 \\mid C=1) \\leq 0.50$\n",
    "3. $0.50 < P(A=1, B=1 \\mid C=1) \\leq 0.75$\n",
    "4. $0.75 < P(A=1, B=1 \\mid C=1)$"
   ]
  },
  {
   "cell_type": "markdown",
   "metadata": {},
   "source": [
    "**Solution:** $\\;$ Option $1;\\;P(A=1, B=1 \\mid C=1) = 0.174$"
   ]
  },
  {
   "cell_type": "markdown",
   "metadata": {},
   "source": [
    "**2023_01_17_Question 1:** Suppose we have two boxes with 40 oranges in the first and 80 in the second. The first box contains 9 Navelina and 31 Caracara oranges. The second box contains three times more Navelina oranges than Caracara. Now suppose a box is chosen at random, and then an orange is chosen at random from the chosen box. If the orange chosen is Navelina, the probability $P$ that it comes from the first box is:\n",
    "1. $0/4\\leq P<1/4$.\n",
    "2. $1/4\\leq P<2/4$.\n",
    "3. $2/4\\leq P<3/4$.\n",
    "4. $3/4\\leq P\\leq 4/4$."
   ]
  },
  {
   "cell_type": "markdown",
   "metadata": {},
   "source": [
    "**Solution:**\n",
    "$$\\begin{align*}\n",
    "P=P(C=1\\mid T=N)&=\\frac{P(C=1)P(T=N\\mid C=1)}{P(C=1)P(T=N\\mid C=1)+P(C=2)P(T=N\\mid C=2)}\\\\%\n",
    "&=\\frac{1/2\\cdot9/40}{1/2\\cdot9/40+1/2\\cdot3/4}=\\frac{9}{9+30}=0.23\n",
    "\\end{align*}$$"
   ]
  },
  {
   "cell_type": "markdown",
   "metadata": {},
   "source": [
    "**2022_01_27_Question 4:** $\\;$ Given the following table of joint frequencies of three variables of interest:\n",
    "$$\\begin{array}{|c|cccccccc|}\\hline\n",
    "A & 0 & 0 & 0 & 0 & 1 & 1 & 1 & 1\\\\\n",
    "B & 0 & 0 & 1 & 1 & 0 & 0 & 1 & 1\\\\\n",
    "C & 0 & 1 & 0 & 1 & 0 & 1 & 0 & 1\\\\\\hline\n",
    "N(A,B,C) & 124 & 28 & 227 & 175 & 126 & 222 & 23 & 75\\\\\n",
    "\\hline\\end{array}$$\n",
    "What is the value of $P(A=1 \\mid B=1,C=0)$?\n",
    "1. $0.023$\n",
    "2. $0.250$\n",
    "3. $0.092$\n",
    "4. $0.446$"
   ]
  },
  {
   "cell_type": "markdown",
   "metadata": {},
   "source": [
    "**Solution:** $\\;$ Option 3."
   ]
  },
  {
   "cell_type": "markdown",
   "metadata": {},
   "source": [
    "**2022_01_13_Question 7:** $\\;$ Follow a probabilistic reasoning problem about road trips, with the random variables of interest:\n",
    "* Climatology ($C$): \\{clear (CLE), cloudy (CLO), rain (RAI)\\}\n",
    "* Brightness ($B$): \\{day (DAY), night (NIGHT)\\}\n",
    "* Safety ($S$): \\{safe (SAF), accident (ACC)\\}\n",
    "\n",
    "The joint probability of the three variables is given in the table:\n",
    "$$\\begin{array}{c|ccc|ccc}\n",
    "& & \\text{DAY} & & & \\text{NIGHT}\\\\\\hline\n",
    "P(S, B, C) & \\text{CLE} & \\text{CLO} & \\text{RAI} & \\text{CLE} & \\text{CLO} & \\text{RAI}\\\\\\hline\n",
    "\\text{SAF} & 0.27 & 0.23 & 0.07 & 0.16 & 0.07 & 0.06\\\\\n",
    "\\text{ACC} & 0.02 & 0.01 & 0.02 & 0.02 & 0.03 & 0.04\\\\\\hline\\end{array}$$\n",
    "The conditional probability $P(S=\\text{ACC} \\mid B=\\text{DAY},C=\\text{CLO})$ is:\n",
    "1. 0.042\n",
    "2. 0.010\n",
    "3. 0.240\n",
    "4. 0.140"
   ]
  },
  {
   "cell_type": "markdown",
   "metadata": {},
   "source": [
    "**Solution:** $\\;$ Option 1."
   ]
  }
 ],
 "metadata": {
  "language_info": {
   "name": "python"
  }
 },
 "nbformat": 4,
 "nbformat_minor": 2
}
