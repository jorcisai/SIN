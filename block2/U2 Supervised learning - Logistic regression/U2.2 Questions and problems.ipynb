{
 "cells": [
  {
   "cell_type": "markdown",
   "metadata": {},
   "source": [
    "# U2.2 Perceptron algorithm"
   ]
  },
  {
   "cell_type": "markdown",
   "metadata": {},
   "source": [
    "**2023_01_26_Problem:** $\\;$ The following table includes a set of $4$ two-dimensional learning samples from $3$ classes, $c=1,2,3$.\n",
    "$$\\begin{array}{rrrr}\n",
    "n & x_{n1} & x_{n2} & c_n\\\\\\hline%\n",
    "1 & 3 & 5 & 3\\\\%\n",
    "2 & 5 & 1 & 1\\\\%\n",
    "3 & 2 & 2 & 1\\\\%\n",
    "4 & 1 & 2 & 2\\\\%\n",
    "\\hline%\n",
    "\\end{array}$$\n",
    "It is requested:\n",
    "1. ($1.5$ points) Make an execution trace of an iteration of the Perceptron algorithm, with learning factor $\\alpha=1$ margin $b=0.1$ and the following initial weights of each class by columns:\n",
    "$$\\begin{array}{rrrr}\n",
    "d & w_{d1} & w_{d2} & w_{d3}\\\\\\hline%\n",
    "0 & -1 & 0 & -3\\\\%\n",
    "1 & 4 & -6 & -8\\\\%\n",
    "2 & -10 & -2 & 2\\\\%\n",
    "\\hline%\n",
    "\\end{array}$$\n",
    "2. ($0.5$ points) Classify the test sample $\\boldsymbol{x}=(5,5)^t$ using a linear classifier with the weight vectors obtained in the previous section."
   ]
  },
  {
   "cell_type": "markdown",
   "metadata": {},
   "source": [
    "**Solution:**\n",
    "1. An iteration of the Perceptron algorithm with one misclassified sample and resulting weights:\n",
    "$$\\begin{array}{rrrr}\n",
    "d & w_{d1} & w_{d2} & w_{d3}\\\\\\hline%\n",
    "0 & -1 & 1 & -4\\\\%\n",
    "1 & 4 & -5 & -9\\\\%\n",
    "2 & -10 & 0 & 0\\\\%\n",
    "\\hline%\n",
    "\\end{array}$$\n",
    "2. Classification of the test sample: $\\quad g_1(\\boldsymbol{x})=-31\\quad g_2(\\boldsymbol{x})=-24\\quad g_3(\\boldsymbol{x})=-49 \\quad\\Rightarrow\\quad c(\\boldsymbol{x})=2$"
   ]
  },
  {
   "cell_type": "markdown",
   "metadata": {},
   "source": [
    "**2023_01_17_Question 4:** $\\;$ Suppose we are applying the Perceptron algorithm, with learning factor $\\alpha=1$ and margin $b=0.1$, to a set of $4$ two-dimensional learning samples for a $4$ class problem, $c=1,2,3,4$. At a given moment in the execution of the algorithm, the weight vectors $\\boldsymbol{w}_1=(-2,-2,-6)^t$, $\\boldsymbol{w}_2= (-2,-2,-6)^t$, $\\boldsymbol{w}_3=(-2,-4,-4)^t$, $\\boldsymbol{w}_4=(-2,-4 ,-4)^t$. Assuming that the sample $(\\boldsymbol{x},c)=(( 4, 5)^t,2)$ is to be processed next, how many weight vectors will be modified?\n",
    "1. $\\;0$\n",
    "2. $\\;2$\n",
    "3. $\\;3$\n",
    "4. $\\;4$"
   ]
  },
  {
   "cell_type": "markdown",
   "metadata": {},
   "source": [
    "**Solution:** $\\;$ Option 4."
   ]
  },
  {
   "cell_type": "markdown",
   "metadata": {},
   "source": [
    "**2022_01_27_Problem:** $\\;$ In the table on the left, a set of $3$ two-dimensional learning samples of $3$ classes is provided, while in the table on the right, a set of initial weights is provided for each class\n",
    "$$\\begin{array}{ccc}\n",
    "\\begin{array}{c|ccc}\n",
    "n & x_{n1} & x_{n2} & c_n\\\\\\hline\n",
    "1 & -2 & -2 & 1\\\\\n",
    "2 & 0 & 0 & 2\\\\\n",
    "3 & 2 & 2 & 3\\\\\n",
    "\\end{array}\n",
    "& ~~~~ &\n",
    "\\begin{array}{c|ccc}\n",
    "& \\boldsymbol{w}_1 & \\boldsymbol{w}_2 & \\boldsymbol{w}_3\\\\\\hline\n",
    "w_{c0} & 0 & -1 & -1\\\\\n",
    "w_{c1} & -2 & 0 & 4\\\\\n",
    "w_{c2} & -2 & 0 & 4\\\\\n",
    "\\end{array}\n",
    "\\end{array}$$\n",
    "It is requested:\n",
    "1. ($1.5$ points) Perform an execution trace of one iteration of the Perceptron algorithm, with learning factor $\\alpha=1$, margin $\\gamma=0.1$, and using the initial weights provided.\n",
    "2. ($0.5$ points) Graphically represent the decision regions of the resulting classifier, as well as the decision boundaries needed for their representation."
   ]
  },
  {
   "cell_type": "markdown",
   "metadata": {},
   "source": [
    "**Solution:** $\\;$ A Perceptron iteration with one misclassified sample yields the following final weights:\n",
    "$$\\begin{array}{c|ccc}\n",
    "  & \\boldsymbol{w}_1 & \\boldsymbol{w}_2 & \\boldsymbol{w}_3\\\\\\hline\n",
    "w_{c0} & -1 & 0 & -2\\\\\n",
    "w_{c1} & -2 & 0 & 4\\\\\n",
    "w_{c2} & -2 & 0 & 4\\\\\n",
    "\\end{array}$$\n",
    "Boundaries:\n",
    "$$\\begin{align*}\n",
    "&\\boldsymbol{w}_1^t\\boldsymbol{x}=\\boldsymbol{w}_2^t\\boldsymbol{x}%\n",
    "\\;\\Rightarrow\\; -1-2x_1-2x_2=0 \\;\\Rightarrow\\; x_2 = -x_1 -0.5\\\\\n",
    "&\\boldsymbol{w}_1^t\\boldsymbol{x}=\\boldsymbol{w}_3^t\\boldsymbol{x}%\n",
    "\\;\\Rightarrow\\; -1-2x_1-2x_2=-1+4x_1+4x_2 \\;\\Rightarrow\\; x_2 = -x_1\\\\\n",
    "&\\boldsymbol{w}_2^t\\boldsymbol{x}=\\boldsymbol{w}_3^t\\boldsymbol{x}%\n",
    "\\;\\Rightarrow\\; 0=-1+4x_1+4x_2 \\;\\Rightarrow\\; x_2 = -x_1 + 0.25\n",
    "\\end{align*}$$\n",
    "The graphical representation of the three decision regions with the two decision boundaries involved is as follows:"
   ]
  },
  {
   "cell_type": "code",
   "execution_count": 1,
   "metadata": {},
   "outputs": [
    {
     "data": {
      "image/png": "[encoded data removed]",
      "text/plain": [
       "<Figure size 400x400 with 1 Axes>"
      ]
     },
     "metadata": {},
     "output_type": "display_data"
    }
   ],
   "source": [
    "import numpy as np; import matplotlib.pyplot as plt\n",
    "fig = plt.figure(figsize=(4, 4)); plt.xlim([-2, 2]); plt.ylim([-2, 2])\n",
    "ticks = np.arange(-2, 2.1); plt.xticks(ticks); plt.yticks(ticks); plt.grid()\n",
    "plt.plot((-2, 2), (1.5, -2.5)); plt.plot((-2, 2), (2.25, -1.75)); \n",
    "plt.text(-.7, -.7, 'R1'); plt.text(-.1, -.1, 'R2'); plt.text(.5, .5, 'R3');"
   ]
  },
  {
   "cell_type": "markdown",
   "metadata": {},
   "source": [
    "**2022_01_13_Question 3:** $\\;$ Suppose we are applying the Perceptron algorithm, with learning factor $\\alpha=1$ and margin $b=0.1$, to a set of $3$ two-dimensional learning samples for a problem of $2$ classes. It is known that, after processing the first $2$ samples, the weight vectors $\\boldsymbol{w}_1 =(0,0,1)^t\\text{,}$ have been obtained $\\boldsymbol{w}_2 =(0,0,-1)^t$. Likewise, it is known that, after processing the last sample, $(\\boldsymbol{x}_{3},c_{3})$, the weight vectors $\\boldsymbol{w}_1 =( -1,-5,-2)^t,\\,$ and $\\,\\boldsymbol{w}_2 =(1,5,2)^t$. Which of the following samples is that last sample?\n",
    "1. $((2,4)^t,2)$\n",
    "2. $((5,4)^t,2)$\n",
    "3. $((5,3)^t,2)$\n",
    "4. $((2,5)^t,2)$"
   ]
  },
  {
   "cell_type": "markdown",
   "metadata": {},
   "source": [
    "**Solution:** $\\;$ Option 3."
   ]
  }
 ],
 "metadata": {
  "kernelspec": {
   "display_name": "Python 3",
   "language": "python",
   "name": "python3"
  },
  "language_info": {
   "codemirror_mode": {
    "name": "ipython",
    "version": 3
   },
   "file_extension": ".py",
   "mimetype": "text/x-python",
   "name": "python",
   "nbconvert_exporter": "python",
   "pygments_lexer": "ipython3",
   "version": "3.11.4"
  }
 },
 "nbformat": 4,
 "nbformat_minor": 2
}
