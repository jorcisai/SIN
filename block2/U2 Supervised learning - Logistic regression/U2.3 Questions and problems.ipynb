{
 "cells": [
  {
   "cell_type": "markdown",
   "metadata": {},
   "source": [
    "# U2.3 Error estimation"
   ]
  },
  {
   "cell_type": "markdown",
   "metadata": {},
   "source": [
    "**2023_01_17_Question 2:** $\\;$ Let be a four-class classification problem for data of the type $\\boldsymbol{x}=(x_1,x_2)^t\\in\\{0,1\\}^2$ , with the probability distributions from the table:\n",
    "$$\\begin{array}{|cc|cccc|c|}\\hline%\n",
    "x_1&x_2&P(c=1|\\boldsymbol{x})&P(c=2|\\boldsymbol{x})&P(c=3|\\boldsymbol{x})&P(c=4|\\boldsymbol{x})&P( \\boldsymbol{x})\\\\\\hline\n",
    "0 & 0 & 0.1 & 0.3 & 0.1 & 0.5 & 0 \\\\\n",
    "0 & 1 & 0.2 & 0.5 & 0.3 & 0 & 0.1 \\\\\n",
    "1 & 0 & 0.2 & 0.4 & 0.1 & 0.3 & 0.3 \\\\\n",
    "1 & 1 & 0.1 & 0.3 & 0.3 & 0.3 & 0.6 \\\\\n",
    "\\hline\n",
    "\\end{array}$$\n",
    "Indicate in which interval the Bayes' error, $\\varepsilon^*$, is:\n",
    "1. $\\varepsilon^* < 0.40$.\n",
    "2. $0.40 \\leq \\varepsilon^* < 0.45$.\n",
    "3. $0.45 \\leq \\varepsilon^* < 0.50$.\n",
    "4. $0.50 \\leq \\varepsilon^*$."
   ]
  },
  {
   "cell_type": "markdown",
   "metadata": {},
   "source": [
    "**Solution:** $\\;\\varepsilon^*=0.65$ "
   ]
  },
  {
   "cell_type": "markdown",
   "metadata": {},
   "source": [
    "**2022_01_27_Question 3:** $\\;$ Let be a three-class classification problem for data of the type $\\boldsymbol{x}=(x_1,x_2)^t\\in\\{0,1\\}^2$ , with the probability distributions from the table:\n",
    "$$\\begin{array}{|cc|ccc|c|c|}\\hline%\n",
    "x_1&x_2&P(c=1\\mid\\boldsymbol{x})&P(c=2\\mid\\boldsymbol{x})&P(c=3\\mid\\boldsymbol{x})&P(\\boldsymbol{x})&c(\\boldsymbol{x})\\\\ \\hline\n",
    "0 & 0 & 0.2 & 0.1 & 0.7 & 0.2 & 2 \\\\\n",
    "0 & 1 & 0.4 & 0.3 & 0.3 & 0 & 1 \\\\\n",
    "1 & 0 & 0.3 & 0.4 & 0.3 & 0.4 & 3 \\\\\n",
    "1 & 1 & 0.4 & 0.4 & 0.2 & 0.4 & 1 \\\\\\hline\n",
    "\\end{array}$$\n",
    "Indicate in which interval the error of the classifier $c(\\boldsymbol{x})$ given in the table, $\\varepsilon$, is:\n",
    "1. $\\varepsilon < 0.25$\n",
    "2. $0.25 \\leq \\varepsilon < 0.50$\n",
    "3. $0.50 \\leq \\varepsilon < 0.75$\n",
    "4. $0.75 \\leq \\varepsilon$"
   ]
  },
  {
   "cell_type": "markdown",
   "metadata": {},
   "source": [
    "**Solution:** $\\;\\varepsilon=0.70$"
   ]
  },
  {
   "cell_type": "markdown",
   "metadata": {},
   "source": [
    "**2022_01_13_Question 2:** $\\;$ The error probability of a classifier is estimated to be $20\\%$. Determine what the minimum number of test samples, $M$, is necessary to achieve that the confidence interval at $95\\%$ of said error does not exceed $\\pm 1\\%$; that is, $I = [19\\%,21\\%]$:\n",
    "1. $M < 2000$\n",
    "2. $2000 \\leq M < 3500$\n",
    "3. $3500 \\leq M < 5000$\n",
    "4. $M \\geq 5000$"
   ]
  },
  {
   "cell_type": "markdown",
   "metadata": {},
   "source": [
    "**Solution:** $\\;M=6147$"
   ]
  }
 ],
 "metadata": {
  "language_info": {
   "name": "python"
  }
 },
 "nbformat": 4,
 "nbformat_minor": 2
}
