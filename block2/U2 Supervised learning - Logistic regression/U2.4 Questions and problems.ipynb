{
 "cells": [
  {
   "cell_type": "markdown",
   "metadata": {},
   "source": [
    "# U2.4 Logistic regression"
   ]
  },
  {
   "cell_type": "markdown",
   "metadata": {},
   "source": [
    "**Question:** $\\;$ $\\;$ Let be a logistic regression model for a classification problem in $C=3$ classes and data represented by vectors of dimension $D=2$\n",
    "$$p(y\\mid\\boldsymbol{x};\\boldsymbol{\\theta})=\\operatorname{Cat}(y\\mid\\mathcal{S}(\\mathbf{W}^t\\boldsymbol{x}+\\boldsymbol{b}))\n",
    "\\quad\\text{with}\\quad%\n",
    "\\mathbf{W}^t=\\begin{pmatrix}1&1\\\\-1&1\\\\0&0\\end{pmatrix}\\in\\mathbb{R}^{C\\times D}%\n",
    "\\quad\\text{and}\\quad%\n",
    "\\boldsymbol{b}=\\begin{pmatrix}0\\\\0\\end{pmatrix}$$\n",
    "The probability $P$ that $\\boldsymbol{x}=(0.5, 0.5)^t$ belongs to class $1$ is:\n",
    "1. $P < 0.25$\n",
    "2. $0.25\\leq P < 0.5$\n",
    "3. $0.5\\leq P < 0.75$\n",
    "4. $0.75\\leq P$"
   ]
  },
  {
   "cell_type": "markdown",
   "metadata": {},
   "source": [
    "**Solution:** $\\;$ Option 3\n",
    "$$p(y=1\\mid\\boldsymbol{x};\\boldsymbol{\\theta})=\\mathcal{S}\\left(\\begin{pmatrix}1&1\\\\-1&1\\\\0&0\\end{pmatrix}\\begin{pmatrix}0.5\\\\0.5\\end{pmatrix}\\right)_1=\\mathcal{S}((1, 0, 0)^t)_1=\\dfrac{e}{e+2}=\\dfrac{1}{1+2/e}=0.5761$$"
   ]
  },
  {
   "cell_type": "markdown",
   "metadata": {},
   "source": [
    "**Problem:** $\\;$ Let be a logistic regression model in compact (homogeneous) notation for a classification problem in $C=3$ classes and data represented by vectors of dimension $D=3$\n",
    "$$p(\\boldsymbol{y}\\mid\\boldsymbol{x};\\mathbf{W})=\\operatorname{Cat}(\\boldsymbol{y}\\mid \\mathcal{S}(\\mathbf{W}^t \\boldsymbol{x}))\n",
    "\\quad\\text{with}\\quad%\n",
    "\\mathbf{W}^t=\\begin{pmatrix}1&-1&0\\\\0&1&0\\\\1&-1&1\\end{pmatrix}\\in\\mathbb{R}^{C\\times D}$$\n",
    "Update the value of $\\mathbf{W}$ by one gradient descent iteration with training set $\\,\\mathcal{D}=\\{(\\boldsymbol{x}=(1, 1, 1)^t , y=1)\\}\\,$ and learning factor $\\,\\eta=0.1$."
   ]
  },
  {
   "cell_type": "markdown",
   "metadata": {},
   "source": [
    "**Solution:**\n",
    "$$\\begin{align*}\n",
    "\\boldsymbol{a}%\n",
    "&=\\mathbf{W}^t\\boldsymbol{x}%\n",
    "=\\begin{pmatrix}1&-1&0\\\\0&1&0\\\\1&-1&1\\end{pmatrix}\\begin{pmatrix}1\\\\1\\\\1\\end{pmatrix}%\n",
    "=\\begin{pmatrix}0\\\\1\\\\1\\end{pmatrix}\\\\[3mm]%\n",
    "\\boldsymbol{\\mu}%\n",
    "&=S(\\boldsymbol{a})%\n",
    "=\\dfrac{1}{1+2e}\\begin{pmatrix}1\\\\e\\\\e\\end{pmatrix}%\n",
    "=\\begin{pmatrix}0.1554\\\\0.4223\\\\0.4223\\end{pmatrix}\\\\[3mm]%\n",
    "\\mathbf{W}%\n",
    "&=\\mathbf{W}-\\eta\\,\\boldsymbol{x}(\\boldsymbol{\\mu}-\\boldsymbol{y})^t\\\\%\n",
    "&=\\begin{pmatrix}1&0&1\\\\-1&1&-1\\\\0&0&1\\end{pmatrix}-0.1\\,\\begin{pmatrix}1\\\\1\\\\1\\end{pmatrix}(-0.8446, 0.4223, 0.4223)\\\\%\n",
    "&=\\begin{pmatrix}1&0&1\\\\-1&1&-1\\\\0&0&1\\end{pmatrix}-\\begin{pmatrix}-0.0845&-0.0845&-0.0845\\\\0.0422&0.0422&0.0422\\\\0.0422&0.0422&0.0422\\end{pmatrix}\\\\%\n",
    "&=\\begin{pmatrix}1.0845&0.0845&1.0845\\\\-1.0422&0.9578&-1.0422\\\\-0.0422&-0.0422&0.9578\\end{pmatrix}\n",
    "\\end{align*}$$"
   ]
  }
 ],
 "metadata": {
  "language_info": {
   "name": "python"
  }
 },
 "nbformat": 4,
 "nbformat_minor": 2
}
